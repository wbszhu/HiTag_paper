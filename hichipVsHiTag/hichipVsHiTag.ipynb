{
 "cells": [
  {
   "cell_type": "code",
   "execution_count": 60,
   "id": "exclusive-strengthening",
   "metadata": {},
   "outputs": [],
   "source": [
    "import coolbox\n",
    "import os\n",
    "import matplotlib.pyplot as plt\n",
    "from coolbox.api import *\n",
    "import matplotlib as mpl\n",
    "mpl.rcParams['pdf.fonttype'] = 42"
   ]
  },
  {
   "cell_type": "code",
   "execution_count": 61,
   "id": "victorian-manitoba",
   "metadata": {},
   "outputs": [
    {
     "data": {
      "text/plain": [
       "'0.3.8'"
      ]
     },
     "execution_count": 61,
     "metadata": {},
     "output_type": "execute_result"
    }
   ],
   "source": [
    "coolbox.__version__"
   ]
  },
  {
   "cell_type": "code",
   "execution_count": 62,
   "id": "perceived-albany",
   "metadata": {
    "scrolled": false
   },
   "outputs": [
    {
     "name": "stderr",
     "output_type": "stream",
     "text": [
      "[WARNING:wrap.py:307 -                fetch()] No column 'bins/weight'found. Use ``cooler.balance_cooler`` to calculate balancing weights or set balance=False.\n",
      "[WARNING:wrap.py:308 -                fetch()] Data is not balanced, force to use unbalanced matrix.\n",
      "[WARNING:wrap.py:307 -                fetch()] No column 'bins/weight'found. Use ``cooler.balance_cooler`` to calculate balancing weights or set balance=False.\n",
      "[WARNING:wrap.py:308 -                fetch()] Data is not balanced, force to use unbalanced matrix.\n"
     ]
    },
    {
     "data": {
      "application/vnd.jupyter.widget-view+json": {
       "model_id": "49c2edc82d734f9592ada9ab22cd7d40",
       "version_major": 2,
       "version_minor": 0
      },
      "text/plain": [
       "VBox(children=(VBox(children=(HBox(children=(Dropdown(index=9, options=('chr1', 'chr2', 'chr3', 'chr4', 'chr5'…"
      ]
     },
     "metadata": {},
     "output_type": "display_data"
    }
   ],
   "source": [
    "cool_hitag = \"DRP-5-7-25_500plusM.nobalance.mcool\"\n",
    "cool_track_hitag = Cool(cool_hitag, resolution=100000,color=\"RdYlBu_r\",depth_ratio=0.8)\n",
    "\n",
    "cool_hichip = \"k562-h3k27ac-hichip.nobalance.mcool\"\n",
    "cool_track_hichip = Cool(cool_hichip, resolution=100000,color=\"RdYlBu_r\",depth_ratio=0.8)\n",
    "frame = XAxis() + \\\n",
    "    cool_track_hitag + MaxValue(5) + MinValue(0) + Title(\"HiTag\") + TrackHeight(10,)+ \\\n",
    "    cool_track_hichip + MaxValue(5) + MinValue(0) + Title(\"hichip\") +  TrackHeight(10,)+ \\\n",
    "    XAxis()\n",
    "\n",
    "\n",
    "frame *= Feature(depth_ratio=0.8)\n",
    "\n",
    "frame\n",
    "bsr = Browser(frame)\n",
    "bsr.goto(\"chr10:1-77248345\")\n",
    "bsr.show()"
   ]
  },
  {
   "cell_type": "code",
   "execution_count": 63,
   "id": "banner-sender",
   "metadata": {},
   "outputs": [
    {
     "name": "stderr",
     "output_type": "stream",
     "text": [
      "[WARNING:wrap.py:307 -                fetch()] No column 'bins/weight'found. Use ``cooler.balance_cooler`` to calculate balancing weights or set balance=False.\n",
      "[WARNING:wrap.py:308 -                fetch()] Data is not balanced, force to use unbalanced matrix.\n",
      "[WARNING:wrap.py:307 -                fetch()] No column 'bins/weight'found. Use ``cooler.balance_cooler`` to calculate balancing weights or set balance=False.\n",
      "[WARNING:wrap.py:308 -                fetch()] Data is not balanced, force to use unbalanced matrix.\n",
      "[WARNING:wrap.py:307 -                fetch()] No column 'bins/weight'found. Use ``cooler.balance_cooler`` to calculate balancing weights or set balance=False.\n",
      "[WARNING:wrap.py:308 -                fetch()] Data is not balanced, force to use unbalanced matrix.\n",
      "[WARNING:wrap.py:307 -                fetch()] No column 'bins/weight'found. Use ``cooler.balance_cooler`` to calculate balancing weights or set balance=False.\n",
      "[WARNING:wrap.py:308 -                fetch()] Data is not balanced, force to use unbalanced matrix.\n"
     ]
    }
   ],
   "source": [
    "frame.plot(\"chr10:1-77248345\")\n",
    "bsr.save(\"chr10:1-77248345_100kb.pdf\")"
   ]
  },
  {
   "cell_type": "code",
   "execution_count": 64,
   "id": "cordless-decrease",
   "metadata": {
    "scrolled": false
   },
   "outputs": [
    {
     "data": {
      "application/vnd.jupyter.widget-view+json": {
       "model_id": "7d7c9e4a0df4420587d0a56476c670b6",
       "version_major": 2,
       "version_minor": 0
      },
      "text/plain": [
       "VBox(children=(VBox(children=(HBox(children=(Dropdown(index=9, options=('chr1', 'chr2', 'chr3', 'chr4', 'chr5'…"
      ]
     },
     "metadata": {},
     "output_type": "display_data"
    }
   ],
   "source": [
    "cool_hitag = \"DRP-5-7-25_500plusM.nobalance.mcool\"\n",
    "cool_track_hitag = Cool(cool_hitag, resolution=25000,color=\"RdYlBu_r\",depth_ratio=0.8,balance=False)\n",
    "\n",
    "cool_hichip = \"k562-h3k27ac-hichip.nobalance.mcool\"\n",
    "cool_track_hichip = Cool(cool_hichip, resolution=25000,color=\"RdYlBu_r\",depth_ratio=0.8,balance=False)\n",
    "\n",
    "\n",
    "frame = XAxis() + \\\n",
    "    cool_track_hitag + MaxValue(2) + MinValue(-2) +  TrackHeight(10,)+ \\\n",
    "    cool_track_hichip + MaxValue(2) + MinValue(-2) +  TrackHeight(10,)+ \\\n",
    "    XAxis()\n",
    "\n",
    "\n",
    "frame *= Feature(depth_ratio=0.8)\n",
    "bsr = Browser(frame)\n",
    "bsr.goto(\"chr10:4600000-60000000\")\n",
    "bsr.show()"
   ]
  },
  {
   "cell_type": "code",
   "execution_count": 65,
   "id": "deadly-lexington",
   "metadata": {},
   "outputs": [],
   "source": [
    "frame.plot(\"chr10:4600000-60000000\")\n",
    "bsr.save(\"chr10:4600000-60000000_25kb.pdf\")"
   ]
  },
  {
   "cell_type": "code",
   "execution_count": 66,
   "id": "mounted-generic",
   "metadata": {
    "scrolled": false
   },
   "outputs": [
    {
     "name": "stderr",
     "output_type": "stream",
     "text": [
      "[WARNING:wrap.py:307 -                fetch()] No column 'bins/weight'found. Use ``cooler.balance_cooler`` to calculate balancing weights or set balance=False.\n",
      "[WARNING:wrap.py:308 -                fetch()] Data is not balanced, force to use unbalanced matrix.\n",
      "[WARNING:wrap.py:307 -                fetch()] No column 'bins/weight'found. Use ``cooler.balance_cooler`` to calculate balancing weights or set balance=False.\n",
      "[WARNING:wrap.py:308 -                fetch()] Data is not balanced, force to use unbalanced matrix.\n"
     ]
    },
    {
     "data": {
      "application/vnd.jupyter.widget-view+json": {
       "model_id": "0439d09d6a8d469e9314bd68ff9e14cf",
       "version_major": 2,
       "version_minor": 0
      },
      "text/plain": [
       "VBox(children=(VBox(children=(HBox(children=(Dropdown(index=9, options=('chr1', 'chr2', 'chr3', 'chr4', 'chr5'…"
      ]
     },
     "metadata": {},
     "output_type": "display_data"
    }
   ],
   "source": [
    "cool_hitag = \"DRP-5-7-25_500plusM.nobalance.mcool\"\n",
    "cool_track_hitag = Cool(cool_hitag, resolution=5000,color=\"RdYlBu_r\",depth_ratio=0.8)\n",
    "\n",
    "cool_hichip = \"k562-h3k27ac-hichip.nobalance.mcool\"\n",
    "cool_track_hichip = Cool(cool_hichip, resolution=5000,color=\"RdYlBu_r\",depth_ratio=0.8)\n",
    "\n",
    "gtf = \"../..//GRCh38/gencode.v36.annotation.gtf\"\n",
    "g = GTF(gtf)\n",
    "frame = XAxis() + \\\n",
    "    cool_track_hitag + MaxValue(1) + MinValue(-1) + Title(\"HiTag\") +  TrackHeight(10,)+ \\\n",
    "    cool_track_hichip + MaxValue(1) + MinValue(-1) + Title(\"hichip\") +  TrackHeight(10,)+ \\\n",
    "    g + \\\n",
    "    XAxis()\n",
    "\n",
    "\n",
    "frame *= Feature(depth_ratio=0.8)\n",
    "\n",
    "frame\n",
    "bsr = Browser(frame)\n",
    "bsr.goto(\"chr10:46246658-52533878\")\n",
    "bsr.show()"
   ]
  },
  {
   "cell_type": "code",
   "execution_count": 67,
   "id": "strategic-willow",
   "metadata": {
    "scrolled": true
   },
   "outputs": [
    {
     "name": "stderr",
     "output_type": "stream",
     "text": [
      "[WARNING:wrap.py:307 -                fetch()] No column 'bins/weight'found. Use ``cooler.balance_cooler`` to calculate balancing weights or set balance=False.\n",
      "[WARNING:wrap.py:308 -                fetch()] Data is not balanced, force to use unbalanced matrix.\n",
      "[WARNING:wrap.py:307 -                fetch()] No column 'bins/weight'found. Use ``cooler.balance_cooler`` to calculate balancing weights or set balance=False.\n",
      "[WARNING:wrap.py:308 -                fetch()] Data is not balanced, force to use unbalanced matrix.\n",
      "[WARNING:wrap.py:307 -                fetch()] No column 'bins/weight'found. Use ``cooler.balance_cooler`` to calculate balancing weights or set balance=False.\n",
      "[WARNING:wrap.py:308 -                fetch()] Data is not balanced, force to use unbalanced matrix.\n",
      "[WARNING:wrap.py:307 -                fetch()] No column 'bins/weight'found. Use ``cooler.balance_cooler`` to calculate balancing weights or set balance=False.\n",
      "[WARNING:wrap.py:308 -                fetch()] Data is not balanced, force to use unbalanced matrix.\n"
     ]
    }
   ],
   "source": [
    "frame.plot(\"chr10:46246658-52533878\")\n",
    "bsr.save(\"chr10:46246658-52533878_5kb.pdf\")"
   ]
  },
  {
   "cell_type": "code",
   "execution_count": null,
   "id": "sunset-relations",
   "metadata": {},
   "outputs": [],
   "source": []
  },
  {
   "cell_type": "code",
   "execution_count": null,
   "id": "f503d8cc",
   "metadata": {},
   "outputs": [],
   "source": []
  }
 ],
 "metadata": {
  "kernelspec": {
   "display_name": "Python 3 (ipykernel)",
   "language": "python",
   "name": "python3"
  },
  "language_info": {
   "codemirror_mode": {
    "name": "ipython",
    "version": 3
   },
   "file_extension": ".py",
   "mimetype": "text/x-python",
   "name": "python",
   "nbconvert_exporter": "python",
   "pygments_lexer": "ipython3",
   "version": "3.10.6"
  }
 },
 "nbformat": 4,
 "nbformat_minor": 5
}
