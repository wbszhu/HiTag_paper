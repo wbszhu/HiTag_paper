{
 "cells": [
  {
   "cell_type": "code",
   "execution_count": 1,
   "id": "divine-hepatitis",
   "metadata": {},
   "outputs": [
    {
     "data": {
      "text/plain": [
       "'0.3.8'"
      ]
     },
     "execution_count": 1,
     "metadata": {},
     "output_type": "execute_result"
    }
   ],
   "source": [
    "import coolbox\n",
    "import os\n",
    "import matplotlib.pyplot as plt\n",
    "from coolbox.api import *\n",
    "import matplotlib as mpl\n",
    "mpl.rcParams['pdf.fonttype'] = 42\n",
    "coolbox.__version__"
   ]
  },
  {
   "cell_type": "code",
   "execution_count": 2,
   "id": "8d2b8e8f",
   "metadata": {
    "scrolled": false
   },
   "outputs": [
    {
     "name": "stderr",
     "output_type": "stream",
     "text": [
      "[WARNING:wrap.py:307 -                fetch()] No column 'bins/weight'found. Use ``cooler.balance_cooler`` to calculate balancing weights or set balance=False.\n",
      "[WARNING:wrap.py:308 -                fetch()] Data is not balanced, force to use unbalanced matrix.\n"
     ]
    },
    {
     "data": {
      "application/vnd.jupyter.widget-view+json": {
       "model_id": "7b99279b924b401caad65d0e1718f3e1",
       "version_major": 2,
       "version_minor": 0
      },
      "text/plain": [
       "VBox(children=(VBox(children=(HBox(children=(Dropdown(index=8, options=('chr1', 'chr2', 'chr3', 'chr4', 'chr5'…"
      ]
     },
     "metadata": {},
     "output_type": "display_data"
    }
   ],
   "source": [
    "cool_hitag = \"DRP-5-7-25_10000M.nobalance.mcool\"\n",
    "cool_hic = \"GSE63525_K562_all.nobalance.mcool\"\n",
    "cool_track_hitag = Cool(cool_hitag, resolution=5000,depth_ratio=0.8, style=\"matrix\")\n",
    "cool_track_hic = Cool(cool_hic, resolution=5000,depth_ratio=0.8, style=\"matrix\")\n",
    "\n",
    "frame = XAxis() + \\\n",
    "    cool_track_hitag + Title(\"HiTag\") + MaxValue(6) + MinValue(1) + TrackHeight(10,)+ \\\n",
    "    XAxis()\n",
    "\n",
    "frame *= Feature(depth_ratio=0.8)\n",
    "\n",
    "frame\n",
    "bsr = Browser(frame)\n",
    "bsr.goto(\"chr9:37100000-37675000\")\n",
    "bsr.show()"
   ]
  },
  {
   "cell_type": "code",
   "execution_count": 3,
   "id": "1d91b672",
   "metadata": {},
   "outputs": [
    {
     "name": "stderr",
     "output_type": "stream",
     "text": [
      "[WARNING:wrap.py:307 -                fetch()] No column 'bins/weight'found. Use ``cooler.balance_cooler`` to calculate balancing weights or set balance=False.\n",
      "[WARNING:wrap.py:308 -                fetch()] Data is not balanced, force to use unbalanced matrix.\n"
     ]
    }
   ],
   "source": [
    "bsr.save(\"chr9:37100000-37675000hitag.pdf\")"
   ]
  },
  {
   "cell_type": "code",
   "execution_count": 27,
   "id": "8fdcb841",
   "metadata": {
    "scrolled": false
   },
   "outputs": [
    {
     "name": "stderr",
     "output_type": "stream",
     "text": [
      "[WARNING:wrap.py:307 -                fetch()] No column 'bins/weight'found. Use ``cooler.balance_cooler`` to calculate balancing weights or set balance=False.\n",
      "[WARNING:wrap.py:308 -                fetch()] Data is not balanced, force to use unbalanced matrix.\n"
     ]
    },
    {
     "data": {
      "application/vnd.jupyter.widget-view+json": {
       "model_id": "32a4b0b108204e0799f0f4500b5560bc",
       "version_major": 2,
       "version_minor": 0
      },
      "text/plain": [
       "VBox(children=(VBox(children=(HBox(children=(Dropdown(index=8, options=('chr1', 'chr2', 'chr3', 'chr4', 'chr5'…"
      ]
     },
     "metadata": {},
     "output_type": "display_data"
    }
   ],
   "source": [
    "frame = XAxis() + \\\n",
    "        cool_track_hic  + Title(\"HiC\") + MaxValue(6) + MinValue(1) + TrackHeight(10,)+ \\\n",
    "        XAxis()\n",
    "\n",
    "frame *= Feature(depth_ratio=0.8)\n",
    "\n",
    "frame\n",
    "bsr = Browser(frame)\n",
    "bsr.goto(\"chr9:37100000-37675000\")\n",
    "bsr.show()"
   ]
  },
  {
   "cell_type": "code",
   "execution_count": 28,
   "id": "53b4a298",
   "metadata": {},
   "outputs": [
    {
     "name": "stderr",
     "output_type": "stream",
     "text": [
      "[WARNING:wrap.py:307 -                fetch()] No column 'bins/weight'found. Use ``cooler.balance_cooler`` to calculate balancing weights or set balance=False.\n",
      "[WARNING:wrap.py:308 -                fetch()] Data is not balanced, force to use unbalanced matrix.\n"
     ]
    }
   ],
   "source": [
    "bsr.save(\"chr9:37100000-37675000hic.pdf\")"
   ]
  },
  {
   "cell_type": "code",
   "execution_count": 29,
   "id": "de3c6960",
   "metadata": {},
   "outputs": [
    {
     "name": "stderr",
     "output_type": "stream",
     "text": [
      "[WARNING:wrap.py:307 -                fetch()] No column 'bins/weight'found. Use ``cooler.balance_cooler`` to calculate balancing weights or set balance=False.\n",
      "[WARNING:wrap.py:308 -                fetch()] Data is not balanced, force to use unbalanced matrix.\n",
      "[WARNING:wrap.py:307 -                fetch()] No column 'bins/weight'found. Use ``cooler.balance_cooler`` to calculate balancing weights or set balance=False.\n",
      "[WARNING:wrap.py:308 -                fetch()] Data is not balanced, force to use unbalanced matrix.\n"
     ]
    },
    {
     "data": {
      "application/vnd.jupyter.widget-view+json": {
       "model_id": "de4be9eb2fa24a9bb7832772e2f8359c",
       "version_major": 2,
       "version_minor": 0
      },
      "text/plain": [
       "VBox(children=(VBox(children=(HBox(children=(Dropdown(index=8, options=('chr1', 'chr2', 'chr3', 'chr4', 'chr5'…"
      ]
     },
     "metadata": {},
     "output_type": "display_data"
    }
   ],
   "source": [
    "frame = XAxis() + \\\n",
    "        HiCDiff(cool_track_hic, cool_track_hitag, diff_method='diff', cmap=\"bwr_r\", style=\"matrix\") + Title(\"HiTag-HiC\") + TrackHeight(10,)+ \\\n",
    "        MaxValue(5) + MinValue(-5) + \\\n",
    "        XAxis()\n",
    "\n",
    "frame *= Feature(depth_ratio=0.8)\n",
    "\n",
    "frame\n",
    "bsr = Browser(frame)\n",
    "bsr.goto(\"chr9:37100000-37675000\")\n",
    "bsr.show()"
   ]
  },
  {
   "cell_type": "code",
   "execution_count": 30,
   "id": "ff25baf3",
   "metadata": {
    "scrolled": true
   },
   "outputs": [
    {
     "name": "stderr",
     "output_type": "stream",
     "text": [
      "[WARNING:wrap.py:307 -                fetch()] No column 'bins/weight'found. Use ``cooler.balance_cooler`` to calculate balancing weights or set balance=False.\n",
      "[WARNING:wrap.py:308 -                fetch()] Data is not balanced, force to use unbalanced matrix.\n",
      "[WARNING:wrap.py:307 -                fetch()] No column 'bins/weight'found. Use ``cooler.balance_cooler`` to calculate balancing weights or set balance=False.\n",
      "[WARNING:wrap.py:308 -                fetch()] Data is not balanced, force to use unbalanced matrix.\n"
     ]
    }
   ],
   "source": [
    "bsr.save(\"chr9:37100000-37675000hic-hitag.pdf\")"
   ]
  },
  {
   "cell_type": "code",
   "execution_count": 7,
   "id": "706dc40e",
   "metadata": {
    "scrolled": false
   },
   "outputs": [
    {
     "name": "stderr",
     "output_type": "stream",
     "text": [
      "[WARNING:wrap.py:307 -                fetch()] No column 'bins/weight'found. Use ``cooler.balance_cooler`` to calculate balancing weights or set balance=False.\n",
      "[WARNING:wrap.py:308 -                fetch()] Data is not balanced, force to use unbalanced matrix.\n",
      "[WARNING:wrap.py:307 -                fetch()] No column 'bins/weight'found. Use ``cooler.balance_cooler`` to calculate balancing weights or set balance=False.\n",
      "[WARNING:wrap.py:308 -                fetch()] Data is not balanced, force to use unbalanced matrix.\n",
      "[WARNING:wrap.py:307 -                fetch()] No column 'bins/weight'found. Use ``cooler.balance_cooler`` to calculate balancing weights or set balance=False.\n",
      "[WARNING:wrap.py:308 -                fetch()] Data is not balanced, force to use unbalanced matrix.\n",
      "[WARNING:wrap.py:307 -                fetch()] No column 'bins/weight'found. Use ``cooler.balance_cooler`` to calculate balancing weights or set balance=False.\n",
      "[WARNING:wrap.py:308 -                fetch()] Data is not balanced, force to use unbalanced matrix.\n"
     ]
    },
    {
     "data": {
      "application/vnd.jupyter.widget-view+json": {
       "model_id": "3c12cf9bac2d4062b2f5f50283094698",
       "version_major": 2,
       "version_minor": 0
      },
      "text/plain": [
       "VBox(children=(VBox(children=(HBox(children=(Dropdown(index=21, options=('chr1', 'chr2', 'chr3', 'chr4', 'chr5…"
      ]
     },
     "metadata": {},
     "output_type": "display_data"
    }
   ],
   "source": [
    "cool_hitag = \"DRP-5-7-25_10000M.nobalance.mcool\"\n",
    "cool_hic = \"GSE63525_K562_all.nobalance.mcool\"\n",
    "cool_track_hitag = Cool(cool_hitag, resolution=5000,depth_ratio=0.8)\n",
    "cool_track_hic = Cool(cool_hic, resolution=5000,depth_ratio=0.8)\n",
    "loci = [\"chr22:19479457-19479457\"]\n",
    "        #,\"chr22:19520612-19520612\"]\n",
    "bed12 = \"hg38.bed\"\n",
    "\n",
    "gtf = \"../..//GRCh38/gencode.v36.annotation.gtf\"\n",
    "g = GTF(gtf)\n",
    "\n",
    "frame = XAxis() + \\\n",
    "    cool_track_hitag + Title(\"HiTag\") + MaxValue(6) + MinValue(1) + TrackHeight(10,)+ \\\n",
    "    cool_track_hic + Title(\"Hic\") + MaxValue(6) + MinValue(1) + TrackHeight(10,) + \\\n",
    "    g + \\\n",
    "    XAxis()\n",
    "\n",
    "frame *= Feature(depth_ratio=0.8)\n",
    "\n",
    "for l in loci:\n",
    "    track = Virtual4C(cool_track_hitag, l, bin_width=5) + MinValue(0) + Title(\"hitag\") +  MaxValue(150) + Virtual4C(cool_track_hic, l, bin_width=5) + MinValue(0) + Title(\"hic\") + MaxValue(150)\n",
    "    frame += track + Spacer(0.5)\n",
    "\n",
    "frame*=Vlines(loci)\n",
    "#frame = frame + BED(bed12,row_height=1.0, num_rows=5)\n",
    "bsr = Browser(frame)\n",
    "bsr.goto(\"chr22:18870724-20088190\")\n",
    "bsr.show()"
   ]
  },
  {
   "cell_type": "code",
   "execution_count": 8,
   "id": "51ec7ab3",
   "metadata": {},
   "outputs": [
    {
     "name": "stderr",
     "output_type": "stream",
     "text": [
      "[WARNING:wrap.py:307 -                fetch()] No column 'bins/weight'found. Use ``cooler.balance_cooler`` to calculate balancing weights or set balance=False.\n",
      "[WARNING:wrap.py:308 -                fetch()] Data is not balanced, force to use unbalanced matrix.\n",
      "[WARNING:wrap.py:307 -                fetch()] No column 'bins/weight'found. Use ``cooler.balance_cooler`` to calculate balancing weights or set balance=False.\n",
      "[WARNING:wrap.py:308 -                fetch()] Data is not balanced, force to use unbalanced matrix.\n",
      "[WARNING:wrap.py:307 -                fetch()] No column 'bins/weight'found. Use ``cooler.balance_cooler`` to calculate balancing weights or set balance=False.\n",
      "[WARNING:wrap.py:308 -                fetch()] Data is not balanced, force to use unbalanced matrix.\n",
      "[WARNING:wrap.py:307 -                fetch()] No column 'bins/weight'found. Use ``cooler.balance_cooler`` to calculate balancing weights or set balance=False.\n",
      "[WARNING:wrap.py:308 -                fetch()] Data is not balanced, force to use unbalanced matrix.\n"
     ]
    }
   ],
   "source": [
    "bsr.save(\"chr22:18870724-20088190hic-hitag.pdf\")"
   ]
  },
  {
   "cell_type": "code",
   "execution_count": null,
   "id": "53035ca7",
   "metadata": {},
   "outputs": [],
   "source": []
  }
 ],
 "metadata": {
  "kernelspec": {
   "display_name": "Python 3 (ipykernel)",
   "language": "python",
   "name": "python3"
  },
  "language_info": {
   "codemirror_mode": {
    "name": "ipython",
    "version": 3
   },
   "file_extension": ".py",
   "mimetype": "text/x-python",
   "name": "python",
   "nbconvert_exporter": "python",
   "pygments_lexer": "ipython3",
   "version": "3.10.6"
  }
 },
 "nbformat": 4,
 "nbformat_minor": 5
}
