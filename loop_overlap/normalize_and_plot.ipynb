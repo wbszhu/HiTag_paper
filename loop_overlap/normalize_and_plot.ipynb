{
 "cells": [
  {
   "cell_type": "code",
   "execution_count": 113,
   "id": "d6161e0f",
   "metadata": {
    "scrolled": false
   },
   "outputs": [],
   "source": [
    "import pandas as pd\n",
    "import numpy as np\n",
    "import matplotlib.pyplot as plt\n",
    "import matplotlib as mpl\n",
    "import seaborn as sns; sns.set_theme()\n",
    "mpl.rcParams['pdf.fonttype'] = 42\n",
    "\n",
    "df = pd.read_csv(\"./out/dis.txt\",sep=\"\\t\")\n",
    "df.columns = [\"HiTagdis\", \"1DpeakLoopdis\", \"HiTagu_dis\", \"1DpeakLoopu_dis\"]"
   ]
  },
  {
   "cell_type": "code",
   "execution_count": 114,
   "id": "8e2f7fe6",
   "metadata": {},
   "outputs": [],
   "source": [
    "def logdf(df):\n",
    "    dfout = np.log10(df)\n",
    "    dfout1 = np.histogram(dfout, bins=40, range=(3, 7))\n",
    "    dfout2 = (dfout1[0] - np.min(dfout1[0])) / (np.max(dfout1[0]) - np.min(dfout1[0]))\n",
    "    return dfout2"
   ]
  },
  {
   "cell_type": "code",
   "execution_count": 115,
   "id": "2fd3fef7",
   "metadata": {},
   "outputs": [],
   "source": [
    "df1[\"HiTagdis_n\"] = pd.DataFrame(logdf(df[\"HiTagdis\"]))\n",
    "df1[\"1DpeakLoop_dis_n\"] = pd.DataFrame(logdf(df[\"1DpeakLoopdis\"]))\n",
    "df1[\"HiTagu_dis_n\"] = pd.DataFrame(logdf(df[\"HiTagu_dis\"]))\n",
    "df1[\"1DpeakLoopu_dis_n\"] = pd.DataFrame(logdf(df[\"1DpeakLoopu_dis\"]))"
   ]
  },
  {
   "cell_type": "code",
   "execution_count": 116,
   "id": "403fd6fe",
   "metadata": {},
   "outputs": [
    {
     "data": {
      "text/html": [
       "<div>\n",
       "<style scoped>\n",
       "    .dataframe tbody tr th:only-of-type {\n",
       "        vertical-align: middle;\n",
       "    }\n",
       "\n",
       "    .dataframe tbody tr th {\n",
       "        vertical-align: top;\n",
       "    }\n",
       "\n",
       "    .dataframe thead th {\n",
       "        text-align: right;\n",
       "    }\n",
       "</style>\n",
       "<table border=\"1\" class=\"dataframe\">\n",
       "  <thead>\n",
       "    <tr style=\"text-align: right;\">\n",
       "      <th></th>\n",
       "      <th>HiTagdis_n</th>\n",
       "      <th>1DpeakLoop_dis_n</th>\n",
       "      <th>HiTagu_dis_n</th>\n",
       "      <th>1DpeakLoopu_dis_n</th>\n",
       "    </tr>\n",
       "  </thead>\n",
       "  <tbody>\n",
       "    <tr>\n",
       "      <th>0</th>\n",
       "      <td>0.0</td>\n",
       "      <td>0.0</td>\n",
       "      <td>0.0</td>\n",
       "      <td>0.0</td>\n",
       "    </tr>\n",
       "    <tr>\n",
       "      <th>1</th>\n",
       "      <td>0.0</td>\n",
       "      <td>0.0</td>\n",
       "      <td>0.0</td>\n",
       "      <td>0.0</td>\n",
       "    </tr>\n",
       "    <tr>\n",
       "      <th>2</th>\n",
       "      <td>0.0</td>\n",
       "      <td>0.0</td>\n",
       "      <td>0.0</td>\n",
       "      <td>0.0</td>\n",
       "    </tr>\n",
       "    <tr>\n",
       "      <th>3</th>\n",
       "      <td>0.0</td>\n",
       "      <td>0.0</td>\n",
       "      <td>0.0</td>\n",
       "      <td>0.0</td>\n",
       "    </tr>\n",
       "    <tr>\n",
       "      <th>4</th>\n",
       "      <td>0.0</td>\n",
       "      <td>0.0</td>\n",
       "      <td>0.0</td>\n",
       "      <td>0.0</td>\n",
       "    </tr>\n",
       "  </tbody>\n",
       "</table>\n",
       "</div>"
      ],
      "text/plain": [
       "   HiTagdis_n  1DpeakLoop_dis_n  HiTagu_dis_n  1DpeakLoopu_dis_n\n",
       "0         0.0               0.0           0.0                0.0\n",
       "1         0.0               0.0           0.0                0.0\n",
       "2         0.0               0.0           0.0                0.0\n",
       "3         0.0               0.0           0.0                0.0\n",
       "4         0.0               0.0           0.0                0.0"
      ]
     },
     "execution_count": 116,
     "metadata": {},
     "output_type": "execute_result"
    }
   ],
   "source": [
    "df1_out = df1.drop(0, axis=1)\n",
    "df1_out.head()"
   ]
  },
  {
   "cell_type": "code",
   "execution_count": 120,
   "id": "d0d6ae31",
   "metadata": {},
   "outputs": [
    {
     "data": {
      "text/plain": [
       "<AxesSubplot:>"
      ]
     },
     "execution_count": 120,
     "metadata": {},
     "output_type": "execute_result"
    },
    {
     "data": {
      "image/png": "[encoded data removed]",
      "text/plain": [
       "<Figure size 640x480 with 2 Axes>"
      ]
     },
     "metadata": {},
     "output_type": "display_data"
    }
   ],
   "source": [
    "plt.savefig(\"compare_loop.pdf\")\n",
    "sns.heatmap(df1_out,vmax= 1,vmin=0, cmap=\"viridis\",yticklabels=False)"
   ]
  },
  {
   "cell_type": "code",
   "execution_count": 119,
   "id": "5a0a9a92",
   "metadata": {},
   "outputs": [
    {
     "data": {
      "text/plain": [
       "<Figure size 640x480 with 0 Axes>"
      ]
     },
     "metadata": {},
     "output_type": "display_data"
    }
   ],
   "source": []
  }
 ],
 "metadata": {
  "kernelspec": {
   "display_name": "Python 3 (ipykernel)",
   "language": "python",
   "name": "python3"
  },
  "language_info": {
   "codemirror_mode": {
    "name": "ipython",
    "version": 3
   },
   "file_extension": ".py",
   "mimetype": "text/x-python",
   "name": "python",
   "nbconvert_exporter": "python",
   "pygments_lexer": "ipython3",
   "version": "3.10.6"
  }
 },
 "nbformat": 4,
 "nbformat_minor": 5
}
