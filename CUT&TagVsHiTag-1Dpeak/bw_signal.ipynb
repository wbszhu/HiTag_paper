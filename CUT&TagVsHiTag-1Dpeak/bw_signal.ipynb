{
 "cells": [
  {
   "cell_type": "code",
   "execution_count": 1,
   "id": "7238fd35",
   "metadata": {},
   "outputs": [
    {
     "data": {
      "text/plain": [
       "'0.3.8'"
      ]
     },
     "execution_count": 1,
     "metadata": {},
     "output_type": "execute_result"
    }
   ],
   "source": [
    "import coolbox\n",
    "import os\n",
    "import matplotlib.pyplot as plt\n",
    "from coolbox.api import *\n",
    "import matplotlib as mpl\n",
    "mpl.rcParams['pdf.fonttype'] = 42\n",
    "coolbox.__version__"
   ]
  },
  {
   "cell_type": "code",
   "execution_count": 2,
   "id": "0a21a196",
   "metadata": {},
   "outputs": [
    {
     "name": "stderr",
     "output_type": "stream",
     "text": [
      "[WARNING:wrap.py:307 -                fetch()] No column 'bins/weight'found. Use ``cooler.balance_cooler`` to calculate balancing weights or set balance=False.\n",
      "[WARNING:wrap.py:308 -                fetch()] Data is not balanced, force to use unbalanced matrix.\n"
     ]
    },
    {
     "data": {
      "application/vnd.jupyter.widget-view+json": {
       "model_id": "54030914912049bd9c77a4970cdd7948",
       "version_major": 2,
       "version_minor": 0
      },
      "text/plain": [
       "VBox(children=(VBox(children=(HBox(children=(Dropdown(index=9, options=('chr1', 'chr2', 'chr3', 'chr4', 'chr5'…"
      ]
     },
     "metadata": {},
     "output_type": "display_data"
    }
   ],
   "source": [
    "loop = \"DRP-5-7-25_10000M.bedpe\"\n",
    "cool = \"DRP-5-7-25_10000M.nobalance.mcool\"\n",
    "\n",
    "cool_track = Cool(cool, resolution=10000,color=\"RdYlBu_r\",depth_ratio=0.8, style=\"matrix\")\n",
    "\n",
    "bw27ac = \"H3K27ac_K562.bw\"\n",
    "self = \"HiTag-self.bw\"\n",
    "gtf = \"../..//GRCh38/gencode.v36.annotation.gtf\"\n",
    "g = GTF(gtf)\n",
    "frame = XAxis() + \\\n",
    "    cool_track + MaxValue(5) + MinValue(-1) + TrackHeight(8) + \\\n",
    "    BEDPE(loop) + Title(\"loop\") +  Color(\"#ff9c9c\") +  TrackHeight(4) + \\\n",
    "    BigWig(self) + Inverted()+ Title(\"H3K27ac self\") + Color(\"#66ccff\") + MaxValue(200) + MinValue(0) + \\\n",
    "    BigWig(bw27ac) + Inverted()+ Title(\"H3K27ac CUT&Tag\") + Color(\"#ffd700\") + MaxValue(200) + MinValue(0) + \\\n",
    "    g + Title(\"Gene\") + \\\n",
    "    XAxis()\n",
    "\n",
    "frame *= Feature(depth_ratio=0.8)\n",
    "\n",
    "frame\n",
    "bsr = Browser(frame)\n",
    "bsr.goto(\"chr10:45678024-51992089\")\n",
    "bsr.show()"
   ]
  },
  {
   "cell_type": "code",
   "execution_count": 18,
   "id": "13fb4cd2",
   "metadata": {},
   "outputs": [
    {
     "name": "stderr",
     "output_type": "stream",
     "text": [
      "[WARNING:wrap.py:307 -                fetch()] No column 'bins/weight'found. Use ``cooler.balance_cooler`` to calculate balancing weights or set balance=False.\n",
      "[WARNING:wrap.py:308 -                fetch()] Data is not balanced, force to use unbalanced matrix.\n",
      "[WARNING:wrap.py:307 -                fetch()] No column 'bins/weight'found. Use ``cooler.balance_cooler`` to calculate balancing weights or set balance=False.\n",
      "[WARNING:wrap.py:308 -                fetch()] Data is not balanced, force to use unbalanced matrix.\n"
     ]
    }
   ],
   "source": [
    "frame.plot(\"chr10:45678024-51992089\")\n",
    "bsr.save(\"chr10:45678024-51992089_10kbVSaself.pdf\")"
   ]
  },
  {
   "cell_type": "code",
   "execution_count": 3,
   "id": "a81c8c34",
   "metadata": {},
   "outputs": [
    {
     "data": {
      "application/vnd.jupyter.widget-view+json": {
       "model_id": "81e029980bc94ec293391ddee99779af",
       "version_major": 2,
       "version_minor": 0
      },
      "text/plain": [
       "VBox(children=(VBox(children=(HBox(children=(Dropdown(index=9, options=('chr1', 'chr2', 'chr3', 'chr4', 'chr5'…"
      ]
     },
     "metadata": {},
     "output_type": "display_data"
    }
   ],
   "source": [
    "loop = \"DRP-5-7-25_10000M.bedpe\"\n",
    "cool = \"DRP-5-7-25_10000M.nobalance.mcool\"\n",
    "\n",
    "cool_track = Cool(cool, resolution=10000,color=\"RdYlBu_r\")\n",
    "\n",
    "bw27ac = \"H3K27ac_K562.bw\"\n",
    "self = \"HiTag-self.bw\"\n",
    "gtf = \"../..//GRCh38/gencode.v36.annotation.gtf\"\n",
    "g = GTF(gtf)\n",
    "frame = XAxis() + \\\n",
    "    BEDPE(loop) + Title(\"loop\") +  Color(\"#ff9c9c\") +  TrackHeight(4) + \\\n",
    "    BigWig(self) + Inverted()+ Title(\"H3K27ac self\") + Color(\"#66ccff\") + MaxValue(200) + MinValue(0) + \\\n",
    "    BigWig(bw27ac) + Inverted()+ Title(\"H3K27ac CUT&Tag\") + Color(\"#ffd700\") + MaxValue(200) + MinValue(0) + \\\n",
    "    g + Title(\"Gene\") + \\\n",
    "    XAxis()\n",
    "    #cool_track + MaxValue(5) + MinValue(-1) + TrackHeight(10) + \\\n",
    "\n",
    "frame *= Feature(depth_ratio=1)\n",
    "\n",
    "frame\n",
    "bsr = Browser(frame)\n",
    "bsr.goto(\"chr10:45678024-51992089\")\n",
    "bsr.show()"
   ]
  },
  {
   "cell_type": "code",
   "execution_count": 8,
   "id": "d30e7985",
   "metadata": {},
   "outputs": [],
   "source": [
    "frame.plot(\"chr10:45678024-51992089\")\n",
    "bsr.save(\"chr10:45678024-51992089_10kbVSaself1.pdf\")"
   ]
  },
  {
   "cell_type": "code",
   "execution_count": null,
   "id": "c869960b",
   "metadata": {},
   "outputs": [],
   "source": []
  }
 ],
 "metadata": {
  "kernelspec": {
   "display_name": "Python 3 (ipykernel)",
   "language": "python",
   "name": "python3"
  },
  "language_info": {
   "codemirror_mode": {
    "name": "ipython",
    "version": 3
   },
   "file_extension": ".py",
   "mimetype": "text/x-python",
   "name": "python",
   "nbconvert_exporter": "python",
   "pygments_lexer": "ipython3",
   "version": "3.10.6"
  }
 },
 "nbformat": 4,
 "nbformat_minor": 5
}
