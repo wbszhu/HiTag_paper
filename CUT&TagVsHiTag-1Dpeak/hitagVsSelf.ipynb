{
 "cells": [
  {
   "cell_type": "code",
   "execution_count": 1,
   "id": "08d13c45",
   "metadata": {},
   "outputs": [],
   "source": [
    "import coolbox\n",
    "import os\n",
    "import matplotlib.pyplot as plt\n",
    "from coolbox.api import *\n",
    "import matplotlib as mpl\n",
    "mpl.rcParams['pdf.fonttype'] = 42"
   ]
  },
  {
   "cell_type": "code",
   "execution_count": 2,
   "id": "fb024fd9",
   "metadata": {},
   "outputs": [
    {
     "data": {
      "text/plain": [
       "'0.3.8'"
      ]
     },
     "execution_count": 2,
     "metadata": {},
     "output_type": "execute_result"
    }
   ],
   "source": [
    "coolbox.__version__"
   ]
  },
  {
   "cell_type": "code",
   "execution_count": 3,
   "id": "5b5fd6a3",
   "metadata": {},
   "outputs": [],
   "source": [
    "cuttag_1000 = \"DRP-5-7-25_10000M.bedpe\"\n",
    "self_1000 = \"DRP-5-7-25_10000Mself.bedpe\"\n",
    "\n",
    "cool_1000 = \"DRP-5-7-25_10000M.nobalance.mcool\"\n",
    "cool_track_1000 = Cool(cool_1000, resolution=10000,color=\"RdYlBu_r\",depth_ratio=0.8)\n",
    "\n",
    "bw27ac = \"H3K27ac_K562.bw\"\n",
    "\n",
    "gtf = \"../..//GRCh38/gencode.v36.annotation.gtf\""
   ]
  },
  {
   "cell_type": "code",
   "execution_count": 8,
   "id": "572be2a3",
   "metadata": {
    "scrolled": false
   },
   "outputs": [
    {
     "name": "stderr",
     "output_type": "stream",
     "text": [
      "[WARNING:wrap.py:307 -                fetch()] No column 'bins/weight'found. Use ``cooler.balance_cooler`` to calculate balancing weights or set balance=False.\n",
      "[WARNING:wrap.py:308 -                fetch()] Data is not balanced, force to use unbalanced matrix.\n"
     ]
    },
    {
     "data": {
      "application/vnd.jupyter.widget-view+json": {
       "model_id": "3c4d855020104475b22e3f1f29e80eb2",
       "version_major": 2,
       "version_minor": 0
      },
      "text/plain": [
       "VBox(children=(VBox(children=(HBox(children=(Dropdown(options=('chr1', 'chr2', 'chr3', 'chr4', 'chr5', 'chr6',…"
      ]
     },
     "metadata": {},
     "output_type": "display_data"
    }
   ],
   "source": [
    "g = GTF(gtf)\n",
    "frame = XAxis() + \\\n",
    "    cool_track_1000 + MaxValue(5) + MinValue(-1) + TrackHeight(8) + \\\n",
    "    BEDPE(cuttag_1000)+ Title(\"HiTag-CUTTag\") +  Color(\"#66ccff\") +  TrackHeight(4) +  \\\n",
    "    BEDPE(self_1000) + Title(\"HiTag-SELF\") +  Color(\"#ff9c9c\") +  TrackHeight(4) + \\\n",
    "    BigWig(bw27ac) + Inverted()+ Title(\"H3K27ac\") + Color(\"#ffd700\") + MaxValue(200) + MinValue(0)+ TrackHeight(4) + \\\n",
    "    g + Title(\"Gene\") + \\\n",
    "    XAxis()\n",
    "\n",
    "frame *= Feature(depth_ratio=0.8)\n",
    "\n",
    "frame\n",
    "bsr = Browser(frame)\n",
    "bsr.goto(\"chr1:5791360-6914081\")\n",
    "bsr.show()"
   ]
  },
  {
   "cell_type": "code",
   "execution_count": 9,
   "id": "fe51f945",
   "metadata": {},
   "outputs": [
    {
     "name": "stderr",
     "output_type": "stream",
     "text": [
      "[WARNING:wrap.py:307 -                fetch()] No column 'bins/weight'found. Use ``cooler.balance_cooler`` to calculate balancing weights or set balance=False.\n",
      "[WARNING:wrap.py:308 -                fetch()] Data is not balanced, force to use unbalanced matrix.\n",
      "[WARNING:wrap.py:307 -                fetch()] No column 'bins/weight'found. Use ``cooler.balance_cooler`` to calculate balancing weights or set balance=False.\n",
      "[WARNING:wrap.py:308 -                fetch()] Data is not balanced, force to use unbalanced matrix.\n"
     ]
    }
   ],
   "source": [
    "frame.plot(\"chr1:5791360-6914081\")\n",
    "bsr.save(\"chr1:5791360-6914081.pdf\")"
   ]
  },
  {
   "cell_type": "code",
   "execution_count": null,
   "id": "fresh-compromise",
   "metadata": {},
   "outputs": [],
   "source": []
  },
  {
   "cell_type": "code",
   "execution_count": null,
   "id": "a2119b69",
   "metadata": {},
   "outputs": [],
   "source": []
  }
 ],
 "metadata": {
  "kernelspec": {
   "display_name": "Python 3 (ipykernel)",
   "language": "python",
   "name": "python3"
  },
  "language_info": {
   "codemirror_mode": {
    "name": "ipython",
    "version": 3
   },
   "file_extension": ".py",
   "mimetype": "text/x-python",
   "name": "python",
   "nbconvert_exporter": "python",
   "pygments_lexer": "ipython3",
   "version": "3.10.6"
  }
 },
 "nbformat": 4,
 "nbformat_minor": 5
}
