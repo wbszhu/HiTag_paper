{
 "cells": [
  {
   "cell_type": "code",
   "execution_count": 94,
   "id": "1a860ba6",
   "metadata": {},
   "outputs": [],
   "source": [
    "def ad_dict(anchorMotifbed):\n",
    "    ad_dict = {}\n",
    "    with open(anchorMotifbed, \"r\") as f:\n",
    "        for line in f:\n",
    "            items = line.split()\n",
    "            key, values = items[0], items[1]\n",
    "            ad_dict.setdefault(key,[]).extend(values)\n",
    "        return ad_dict\n",
    "            "
   ]
  },
  {
   "cell_type": "code",
   "execution_count": 95,
   "id": "16e40213",
   "metadata": {},
   "outputs": [],
   "source": [
    "def getAnchor_direct(anchorMotifbed, anchors):\n",
    "    out_dict = ad_dict(anchorMotifbed)\n",
    "    type1 = 0\n",
    "    type2 = 0\n",
    "    type3 = 0\n",
    "    type4 = 0\n",
    "    with open(anchors, \"r\") as f1:\n",
    "        for line in f1:\n",
    "            anchor = line.split()\n",
    "            direct1 = out_dict.get(anchor[0])\n",
    "            direct2 = out_dict.get(anchor[1])\n",
    "            if direct1 != None and direct2 != None:\n",
    "                if \"+\" in direct1 and \"-\" in direct2:\n",
    "                    type1 += 1\n",
    "                elif \"-\" in direct1 and \"+\" in direct2:\n",
    "                    type2 +=1\n",
    "                elif \"-\" in direct1 and \"-\" in direct2:\n",
    "                    type3 += 1\n",
    "                else:\n",
    "                    type4 += 1\n",
    "        return type1, type2, type3, type4\n",
    "                    "
   ]
  },
  {
   "cell_type": "code",
   "execution_count": 96,
   "id": "3f66b253",
   "metadata": {},
   "outputs": [],
   "source": [
    "# def pct(n1, n2, n3, n4):\n",
    "#     n1p = n1 / (n1 + n2 + n3 + n4)\n",
    "#     n2p = n2 / (n1 + n2 + n3 + n4)\n",
    "#     n3p = n3 / (n1 + n2 + n3 + n4)\n",
    "#     n4p = n4 / (n1 + n2 + n3 + n4)\n",
    "#     return n1p. n2p, n3p, n4p"
   ]
  },
  {
   "cell_type": "code",
   "execution_count": 97,
   "id": "413e906d",
   "metadata": {},
   "outputs": [],
   "source": [
    "# def outForPlot():\n",
    "#     N3_t1, N3_t2, N3_t3, N3_t4 = getAnchor_direct(\"N3_anchorMotif.bed\", \"N3_anchor.txt\")\n",
    "#     N4_t1, N4_t2, N4_t3, N4_t4 = getAnchor_direct(\"N4_anchorMotif.bed\", \"N4_anchor.txt\")\n",
    "#     N5_t1, N5_t2, N5_t3, N5_t4 = getAnchor_direct(\"N5_anchorMotif.bed\", \"N5_anchor.txt\")\n",
    "#     N3_t1p, N3_t2p, N3_t3p, N3_t4p = pct(N3_t1, N3_t2, N3_t3, N3_t4)\n",
    "#     N4_t1p, N4_t2p, N4_t3p, N4_t4p = pct(N4_t1, N4_t2, N4_t3, N4_t4)\n",
    "#     N5_t1p, N5_t2p, N5_t3p, N5_t4p = pct(N5_t1, N5_t2, N5_t3, N5_t4)\n",
    "#     print(N3_t1p, N3_t2p, N3_t3p, N3_t4p)"
   ]
  },
  {
   "cell_type": "code",
   "execution_count": 98,
   "id": "61e40640",
   "metadata": {},
   "outputs": [
    {
     "data": {
      "text/plain": [
       "(2256, 133, 214, 225)"
      ]
     },
     "execution_count": 98,
     "metadata": {},
     "output_type": "execute_result"
    }
   ],
   "source": [
    "getAnchor_direct(\"N3_anchorMotif.bed\", \"N3_anchor.txt\")"
   ]
  },
  {
   "cell_type": "code",
   "execution_count": 99,
   "id": "e98c953b",
   "metadata": {},
   "outputs": [
    {
     "data": {
      "text/plain": [
       "(2229, 132, 215, 203)"
      ]
     },
     "execution_count": 99,
     "metadata": {},
     "output_type": "execute_result"
    }
   ],
   "source": [
    "getAnchor_direct(\"N4_anchorMotif.bed\", \"N4_anchor.txt\")"
   ]
  },
  {
   "cell_type": "code",
   "execution_count": 100,
   "id": "952f174b",
   "metadata": {},
   "outputs": [
    {
     "data": {
      "text/plain": [
       "(1912, 100, 181, 155)"
      ]
     },
     "execution_count": 100,
     "metadata": {},
     "output_type": "execute_result"
    }
   ],
   "source": [
    "getAnchor_direct(\"N5_anchorMotif.bed\", \"N5_anchor.txt\")"
   ]
  },
  {
   "cell_type": "code",
   "execution_count": 101,
   "id": "223b061d",
   "metadata": {
    "scrolled": true
   },
   "outputs": [
    {
     "data": {
      "text/plain": [
       "2828"
      ]
     },
     "execution_count": 101,
     "metadata": {},
     "output_type": "execute_result"
    }
   ],
   "source": [
    "2256+133+214+225"
   ]
  },
  {
   "cell_type": "code",
   "execution_count": 102,
   "id": "d739a565",
   "metadata": {
    "scrolled": true
   },
   "outputs": [
    {
     "data": {
      "text/plain": [
       "0.7977369165487977"
      ]
     },
     "execution_count": 102,
     "metadata": {},
     "output_type": "execute_result"
    }
   ],
   "source": [
    "2256/2828"
   ]
  },
  {
   "cell_type": "code",
   "execution_count": 103,
   "id": "0399c5dc",
   "metadata": {},
   "outputs": [
    {
     "data": {
      "text/plain": [
       "2779"
      ]
     },
     "execution_count": 103,
     "metadata": {},
     "output_type": "execute_result"
    }
   ],
   "source": [
    "2229+132+215+203"
   ]
  },
  {
   "cell_type": "code",
   "execution_count": 104,
   "id": "45dcb81c",
   "metadata": {
    "scrolled": true
   },
   "outputs": [
    {
     "data": {
      "text/plain": [
       "0.8020870816840591"
      ]
     },
     "execution_count": 104,
     "metadata": {},
     "output_type": "execute_result"
    }
   ],
   "source": [
    "2229/2779"
   ]
  },
  {
   "cell_type": "code",
   "execution_count": 105,
   "id": "ce4118f3",
   "metadata": {
    "scrolled": true
   },
   "outputs": [
    {
     "data": {
      "text/plain": [
       "2348"
      ]
     },
     "execution_count": 105,
     "metadata": {},
     "output_type": "execute_result"
    }
   ],
   "source": [
    "1912+100+181+155"
   ]
  },
  {
   "cell_type": "code",
   "execution_count": 106,
   "id": "f52cdb0d",
   "metadata": {},
   "outputs": [
    {
     "data": {
      "text/plain": [
       "0.8143100511073254"
      ]
     },
     "execution_count": 106,
     "metadata": {},
     "output_type": "execute_result"
    }
   ],
   "source": [
    "1912/2348"
   ]
  },
  {
   "cell_type": "code",
   "execution_count": 109,
   "id": "0ca69ac5",
   "metadata": {},
   "outputs": [
    {
     "data": {
      "text/plain": [
       "0.42336819329246306"
      ]
     },
     "execution_count": 109,
     "metadata": {},
     "output_type": "execute_result"
    }
   ],
   "source": [
    "2348/5546"
   ]
  },
  {
   "cell_type": "code",
   "execution_count": null,
   "id": "14883ce3",
   "metadata": {},
   "outputs": [],
   "source": [
    "2779/6575"
   ]
  },
  {
   "cell_type": "code",
   "execution_count": 107,
   "id": "44193e51",
   "metadata": {},
   "outputs": [
    {
     "data": {
      "text/plain": [
       "0.41939789411241285"
      ]
     },
     "execution_count": 107,
     "metadata": {},
     "output_type": "execute_result"
    }
   ],
   "source": [
    "2828/6743"
   ]
  }
 ],
 "metadata": {
  "kernelspec": {
   "display_name": "Python 3 (ipykernel)",
   "language": "python",
   "name": "python3"
  },
  "language_info": {
   "codemirror_mode": {
    "name": "ipython",
    "version": 3
   },
   "file_extension": ".py",
   "mimetype": "text/x-python",
   "name": "python",
   "nbconvert_exporter": "python",
   "pygments_lexer": "ipython3",
   "version": "3.9.13"
  }
 },
 "nbformat": 4,
 "nbformat_minor": 5
}
